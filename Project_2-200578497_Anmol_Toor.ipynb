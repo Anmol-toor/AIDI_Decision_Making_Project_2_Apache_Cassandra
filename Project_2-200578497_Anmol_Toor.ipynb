{
 "cells": [
  {
   "cell_type": "markdown",
   "metadata": {},
   "source": [
    "## Model Data using Cassandra\n",
    "\n",
    "### The aim of the project is to solve the three queries given below."
   ]
  },
  {
   "cell_type": "markdown",
   "metadata": {},
   "source": [
    "### Introduction\n",
    "\n",
    "There is a music streaming app called SoundCloud, that has been using their music streaming app and collecting data on songs and user activity and their aim is to analyze this data especially understanding what songs users are listening to. Currently, they are not making use of a NoSQL db and they have the data stored as a CSV file, thus its difficult for them to query the data. So our task is to create a NoSQL database for helping them with the analysis."
   ]
  },
  {
   "cell_type": "markdown",
   "metadata": {},
   "source": [
    "\n",
    "###  The image below is a screenshot of what the data appears like in the event_data.csv\n",
    "\n",
    "<img src=\"event_data_image.jpg\">\n",
    "\n",
    "For Cassandra to get working, we need to make sure correct version of JAVA and python are installed. For that, I ran few commands in Command prompt which are shown in screeshorts below-->\n",
    "\n",
    "<img src=\"Pic1.png\">\n",
    "<img src=\"Pic2.png\">\n",
    "<img src=\"Pic3.png\">\n",
    "\n",
    "Here, you can see I have successfully started my Apache Cassandra."
   ]
  },
  {
   "cell_type": "markdown",
   "metadata": {},
   "source": [
    "#### Import necessary Libraries"
   ]
  },
  {
   "cell_type": "code",
   "execution_count": null,
   "metadata": {},
   "outputs": [],
   "source": [
    "pip install cassandra-driver"
   ]
  },
  {
   "cell_type": "code",
   "execution_count": 2,
   "metadata": {},
   "outputs": [],
   "source": [
    "import pandas as pd\n",
    "import numpy as np\n",
    "import cassandra\n",
    "import csv\n",
    "from cassandra.cluster import Cluster"
   ]
  },
  {
   "cell_type": "markdown",
   "metadata": {},
   "source": [
    "#### Creating a Cluster"
   ]
  },
  {
   "cell_type": "code",
   "execution_count": 3,
   "metadata": {},
   "outputs": [
    {
     "name": "stdout",
     "output_type": "stream",
     "text": [
      "Cassandra Cluster connected.\n"
     ]
    }
   ],
   "source": [
    "# Connect to Cassandra\n",
    "cluster = Cluster(['127.0.0.1'])\n",
    "session = cluster.connect()\n",
    "\n",
    "# Confirm connection\n",
    "print(\"Cassandra Cluster connected.\")"
   ]
  },
  {
   "cell_type": "markdown",
   "metadata": {},
   "source": [
    "#### Create & Set Keyspace"
   ]
  },
  {
   "cell_type": "code",
   "execution_count": 5,
   "metadata": {},
   "outputs": [
    {
     "name": "stdout",
     "output_type": "stream",
     "text": [
      "Keyspace 'cloud_tracks' created and set.\n"
     ]
    }
   ],
   "source": [
    "# Create a keyspace for SoundCloud data analysis\n",
    "session.execute(\"\"\"\n",
    "    CREATE KEYSPACE IF NOT EXISTS cloud_tracks \n",
    "    WITH REPLICATION = { 'class': 'SimpleStrategy', 'replication_factor': 1 }\n",
    "\"\"\")\n",
    "\n",
    "# Set the keyspace to use\n",
    "session.set_keyspace('cloud_tracks')\n",
    "\n",
    "# Confirm keyspace creation\n",
    "print(\"Keyspace 'cloud_tracks' created and set.\")"
   ]
  },
  {
   "cell_type": "markdown",
   "metadata": {},
   "source": [
    "## List of Queries "
   ]
  },
  {
   "cell_type": "markdown",
   "metadata": {},
   "source": [
    "### Query1 Table1: \n",
    "Find the artist_name, song_title and length of song the SoundCloud app history that was heard during  session_number = 338, and item_in_session_number  = 4"
   ]
  },
  {
   "cell_type": "code",
   "execution_count": 8,
   "metadata": {},
   "outputs": [
    {
     "name": "stdout",
     "output_type": "stream",
     "text": [
      "Table 'song_history' created.\n"
     ]
    }
   ],
   "source": [
    "# Create table for song history\n",
    "session.execute(\"\"\"\n",
    "    CREATE TABLE IF NOT EXISTS song_history (\n",
    "        session_number int,\n",
    "        item_in_session_number int,\n",
    "        artist_name text,\n",
    "        song_title text,\n",
    "        length float,\n",
    "        PRIMARY KEY (session_number, item_in_session_number)\n",
    "    )\n",
    "\"\"\")\n",
    "# Confirm table creation\n",
    "print(\"Table 'song_history' created.\")"
   ]
  },
  {
   "cell_type": "markdown",
   "metadata": {},
   "source": [
    "### Let's insert our data into of table"
   ]
  },
  {
   "cell_type": "code",
   "execution_count": 9,
   "metadata": {},
   "outputs": [
    {
     "name": "stdout",
     "output_type": "stream",
     "text": [
      "Data insertion completed.\n"
     ]
    }
   ],
   "source": [
    "import csv\n",
    "\n",
    "file_name = 'event_data.csv'\n",
    "\n",
    "with open(file_name, encoding='utf8') as f:\n",
    "    csv_reader = csv.reader(f)\n",
    "    next(csv_reader)  # Skip header\n",
    "    for row in csv_reader:\n",
    "        query = \"\"\"\n",
    "        INSERT INTO song_history (session_number, item_in_session_number, artist_name, song_title, length)\n",
    "        VALUES (%s, %s, %s, %s, %s)\n",
    "        \"\"\"\n",
    "        session.execute(query, (int(row[8]), int(row[3]), row[0], row[9], float(row[5])))\n",
    "\n",
    "print(\"Data insertion completed.\")"
   ]
  },
  {
   "cell_type": "markdown",
   "metadata": {},
   "source": [
    "### Validate our Data Model using a SELECT"
   ]
  },
  {
   "cell_type": "code",
   "execution_count": 14,
   "metadata": {
    "scrolled": true
   },
   "outputs": [
    {
     "name": "stdout",
     "output_type": "stream",
     "text": [
      "Artist -Faithless\n",
      "Song -Music Matters (Mark Knight Dub)\n",
      "Length -(495.30731201171875 seconds)\n"
     ]
    }
   ],
   "source": [
    "# Retrieve song details from song_history\n",
    "query = \"\"\"\n",
    "    SELECT artist_name, song_title, length \n",
    "    FROM song_history \n",
    "    WHERE session_number = 338 AND item_in_session_number = 4\n",
    "\"\"\"\n",
    "\n",
    "# Execute the query\n",
    "rows = session.execute(query)\n",
    "\n",
    "# Print the results\n",
    "for row in rows:\n",
    "    print(f\"Artist -{row.artist_name}\\nSong -{row.song_title}\\nength -({row.length} seconds)\")"
   ]
  },
  {
   "cell_type": "markdown",
   "metadata": {},
   "source": [
    "### Query2 Table2: \n",
    "Find the artist_name, song_title (sorted by item_in_session_number) and name(fname and lname) of the user for user_id = 10, session_number = 182"
   ]
  },
  {
   "cell_type": "code",
   "execution_count": 15,
   "metadata": {},
   "outputs": [
    {
     "name": "stdout",
     "output_type": "stream",
     "text": [
      "Table 'user_session_songs' created.\n"
     ]
    }
   ],
   "source": [
    "# Create table for user sessions\n",
    "try:\n",
    "    session.execute(\"\"\"\n",
    "    CREATE TABLE IF NOT EXISTS user_session_songs (\n",
    "        user_id INT,\n",
    "        session_number INT,\n",
    "        item_in_session_number INT,\n",
    "        artist_name TEXT,\n",
    "        song_title TEXT,\n",
    "        first_name TEXT,\n",
    "        last_name TEXT,\n",
    "        PRIMARY KEY ((user_id, session_number), item_in_session_number)\n",
    "    )\n",
    "    \"\"\")\n",
    "    \n",
    "    print(\"Table 'user_session_songs' created.\")\n",
    "\n",
    "except Exception as e:\n",
    "    print(\"Error creating the table:\", e)                "
   ]
  },
  {
   "cell_type": "markdown",
   "metadata": {},
   "source": [
    "### Let's insert our data into of table"
   ]
  },
  {
   "cell_type": "code",
   "execution_count": 16,
   "metadata": {
    "scrolled": false
   },
   "outputs": [
    {
     "name": "stdout",
     "output_type": "stream",
     "text": [
      "Data inserted into the table successfully.\n"
     ]
    }
   ],
   "source": [
    "import csv\n",
    "\n",
    "file_name = 'event_data.csv'\n",
    "\n",
    "with open(file_name, encoding='utf8') as f:\n",
    "    csv_reader = csv.reader(f)\n",
    "    next(csv_reader)  # Skip header\n",
    "    for row in csv_reader:\n",
    "        # Prepare the INSERT statement\n",
    "        query = \"\"\"\n",
    "        INSERT INTO user_session_songs (user_id, session_number, item_in_session_number, artist_name, song_title, first_name, last_name) \n",
    "        VALUES (%s, %s, %s, %s, %s, %s, %s)\n",
    "        \"\"\"\n",
    "        \n",
    "        # Match CSV columns to INSERT statement\n",
    "        session.execute(query, (int(row[10]), int(row[8]), int(row[3]), row[0], row[9], row[1], row[4]))\n",
    "\n",
    "print(\"Data inserted into the table successfully.\")"
   ]
  },
  {
   "cell_type": "markdown",
   "metadata": {},
   "source": [
    "### Validate our Data Model using a SELECT"
   ]
  },
  {
   "cell_type": "code",
   "execution_count": null,
   "metadata": {},
   "outputs": [],
   "source": [
    "pip install prettytable"
   ]
  },
  {
   "cell_type": "code",
   "execution_count": 22,
   "metadata": {
    "scrolled": true
   },
   "outputs": [
    {
     "name": "stdout",
     "output_type": "stream",
     "text": [
      "\n",
      "Results for user_id = 10 and session_number = 182:\n",
      "+-------------------+------------------------------------------------------+------------+-----------+\n",
      "|    Artist Name    |                      Song Title                      | First Name | Last Name |\n",
      "+-------------------+------------------------------------------------------+------------+-----------+\n",
      "|  Down To The Bone |                  Keep On Keepin' On                  |   Sylvie   |    Cruz   |\n",
      "|    Three Drives   |                     Greece 2000                      |   Sylvie   |    Cruz   |\n",
      "| Sebastien Tellier |                      Kilometer                       |   Sylvie   |    Cruz   |\n",
      "|   Lonnie Gordon   | Catch You Baby (Steve Pitron & Max Sanna Radio Edit) |   Sylvie   |    Cruz   |\n",
      "+-------------------+------------------------------------------------------+------------+-----------+\n"
     ]
    }
   ],
   "source": [
    "# Query to find artist_name, song_title, and user names for specific user_id and session_number\n",
    "query = \"\"\"\n",
    "    SELECT artist_name, song_title, first_name, last_name \n",
    "    FROM user_session_songs \n",
    "    WHERE user_id = 10 AND session_number = 182 \n",
    "    ORDER BY item_in_session_number\n",
    "\"\"\"\n",
    "\n",
    "# Execute the query\n",
    "rows = session.execute(query)\n",
    "\n",
    "# Check if rows are returned\n",
    "if rows:\n",
    "    # Create a PrettyTable object for formatted output\n",
    "    table = PrettyTable()\n",
    "\n",
    "    # Define the table columns\n",
    "    table.field_names = [\"Artist Name\", \"Song Title\", \"First Name\", \"Last Name\"]\n",
    "\n",
    "    # Add rows to the table for each record retrieved\n",
    "    for row in rows:\n",
    "        table.add_row([row.artist_name, row.song_title, row.first_name, row.last_name])\n",
    "\n",
    "    # Display the results in a table format\n",
    "    print(\"\\nResults for user_id = 10 and session_number = 182:\")\n",
    "    print(table)\n",
    "else:\n",
    "    print(\"No results found for user_id = 10 and session_number = 182.\")\n"
   ]
  },
  {
   "cell_type": "markdown",
   "metadata": {},
   "source": [
    "### Query3 Table3: \n",
    "Find every name(fname and lname) of the user from the SoundCloud app history that listened to the song_title 'All Hands Against His Own'"
   ]
  },
  {
   "cell_type": "code",
   "execution_count": 29,
   "metadata": {},
   "outputs": [
    {
     "name": "stdout",
     "output_type": "stream",
     "text": [
      "Table song_listeners created successfully\n"
     ]
    }
   ],
   "source": [
    " #Create a table for storing user names who listened to specific songs\n",
    "try:\n",
    "    session.execute(\"\"\"\n",
    "    CREATE TABLE IF NOT EXISTS song_listeners (\n",
    "        song_title TEXT,\n",
    "        user_id INT,\n",
    "        first_name TEXT,\n",
    "        last_name TEXT,\n",
    "        PRIMARY KEY (song_title, user_id)\n",
    "    )\n",
    "    \"\"\")\n",
    "    print(\"Table song_listeners created successfully\")\n",
    "\n",
    "except Exception as e:\n",
    "    print(\"\\n\\nError occurred when creating the table\",e)"
   ]
  },
  {
   "cell_type": "markdown",
   "metadata": {},
   "source": [
    "### Let's insert our data into of table"
   ]
  },
  {
   "cell_type": "code",
   "execution_count": 30,
   "metadata": {
    "scrolled": false
   },
   "outputs": [
    {
     "name": "stdout",
     "output_type": "stream",
     "text": [
      "\n",
      "Data inserted into the 'song_listeners' table successfully.\n"
     ]
    }
   ],
   "source": [
    "file_name = 'event_data.csv'\n",
    "\n",
    "with open(file_name, encoding='utf8') as f:\n",
    "    csv_reader = csv.reader(f)\n",
    "    next(csv_reader)  # Skip header\n",
    "    for row in csv_reader:\n",
    "        query = \"\"\"\n",
    "        INSERT INTO song_listeners (song_title, user_id, first_name, last_name) \n",
    "        VALUES (%s, %s, %s, %s)\n",
    "        \"\"\"\n",
    "        \n",
    "        # Insert user data for each song they listened to\n",
    "        session.execute(query, (row[9], int(row[10]), row[1], row[4]))\n",
    "\n",
    "print(\"\\nData inserted into the 'song_listeners' table successfully.\")"
   ]
  },
  {
   "cell_type": "markdown",
   "metadata": {},
   "source": [
    "### Validate our Data Model using a SELECT"
   ]
  },
  {
   "cell_type": "code",
   "execution_count": 31,
   "metadata": {
    "scrolled": true
   },
   "outputs": [
    {
     "name": "stdout",
     "output_type": "stream",
     "text": [
      "+------------+-----------+\n",
      "| First Name | Last Name |\n",
      "+------------+-----------+\n",
      "| Jacqueline |   Lynch   |\n",
      "|   Tegan    |   Levine  |\n",
      "|    Sara    |  Johnson  |\n",
      "+------------+-----------+\n"
     ]
    }
   ],
   "source": [
    "# Task: Query for users who listened to 'All Hands Against His Own'\n",
    "query = \"\"\"\n",
    "    SELECT first_name, last_name \n",
    "    FROM song_listeners \n",
    "    WHERE song_title = 'All Hands Against His Own'\n",
    "\"\"\"\n",
    "\n",
    "# Execute the query\n",
    "rows = session.execute(query)\n",
    "\n",
    "# Create a PrettyTable object\n",
    "table = PrettyTable()\n",
    "table.field_names = [\"First Name\", \"Last Name\"]\n",
    "\n",
    "# Add rows to the table\n",
    "for row in rows:\n",
    "    table.add_row([row.first_name, row.last_name])\n",
    "\n",
    "# Display the table\n",
    "print(table)"
   ]
  },
  {
   "cell_type": "markdown",
   "metadata": {},
   "source": [
    "### Drop the tables before closing out the sessions"
   ]
  },
  {
   "cell_type": "code",
   "execution_count": 32,
   "metadata": {},
   "outputs": [
    {
     "name": "stdout",
     "output_type": "stream",
     "text": [
      "Tables in keyspace 'cloud_tracks':\n",
      "song_history\n",
      "song_listeners\n",
      "user_session_songs\n"
     ]
    }
   ],
   "source": [
    "# Query to list tables in the current keyspace\n",
    "tables_result = session.execute(\"SELECT table_name FROM system_schema.tables WHERE keyspace_name='cloud_tracks'\")\n",
    "\n",
    "print(\"Tables in keyspace 'cloud_tracks':\")\n",
    "for table in tables_result:\n",
    "    print(table.table_name)"
   ]
  },
  {
   "cell_type": "markdown",
   "metadata": {},
   "source": [
    "### Close the session and cluster connection¶"
   ]
  },
  {
   "cell_type": "code",
   "execution_count": 33,
   "metadata": {},
   "outputs": [
    {
     "data": {
      "text/plain": [
       "<cassandra.cluster.ResultSet at 0x1ca967ad4d0>"
      ]
     },
     "execution_count": 33,
     "metadata": {},
     "output_type": "execute_result"
    }
   ],
   "source": [
    "# Drop the tables\n",
    "session.execute(\"DROP TABLE IF EXISTS song_history\")\n",
    "session.execute(\"DROP TABLE IF EXISTS user_session_songs\")\n",
    "session.execute(\"DROP TABLE IF EXISTS song_listeners\")"
   ]
  },
  {
   "cell_type": "code",
   "execution_count": 34,
   "metadata": {},
   "outputs": [
    {
     "name": "stdout",
     "output_type": "stream",
     "text": [
      "Session and cluster connections have been closed successfully.\n"
     ]
    }
   ],
   "source": [
    "# Close the session and cluster connection\n",
    "session.shutdown()\n",
    "cluster.shutdown()\n",
    "\n",
    "# Print a validation message\n",
    "print(\"Session and cluster connections have been closed successfully.\")"
   ]
  }
 ],
 "metadata": {
  "kernelspec": {
   "display_name": "Python 3 (ipykernel)",
   "language": "python",
   "name": "python3"
  },
  "language_info": {
   "codemirror_mode": {
    "name": "ipython",
    "version": 3
   },
   "file_extension": ".py",
   "mimetype": "text/x-python",
   "name": "python",
   "nbconvert_exporter": "python",
   "pygments_lexer": "ipython3",
   "version": "3.11.5"
  }
 },
 "nbformat": 4,
 "nbformat_minor": 2
}
